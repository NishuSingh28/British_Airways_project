{
 "cells": [
  {
   "cell_type": "markdown",
   "metadata": {
    "id": "r3evxKHusMl4"
   },
   "source": [
    "### BRITISH AIRWAYS WEB SCRAPPING"
   ]
  },
  {
   "cell_type": "code",
   "execution_count": null,
   "metadata": {
    "id": "wozP74JeUUkU"
   },
   "outputs": [],
   "source": [
    "from bs4 import BeautifulSoup\n",
    "import requests \n",
    "import csv \n",
    "from csv import writer \n",
    "\n",
    "for i in range(1,349):\n",
    "  url = f\"https://www.airlinequality.com/airline-reviews/british-airways/page/{i}/\"  \n",
    "\n",
    "  page = requests.get(url).text\n",
    "  \n",
    "  soup = BeautifulSoup(page,'html.parser')\n",
    "\n",
    "  with open('Review.csv','a',encoding='utf-8',newline='') as f:\n",
    "        thewriter = csv.writer(f)\n",
    "        header = ['Review']\n",
    "        thewriter.writerow(header)\n",
    "\n",
    "        lists = []\n",
    "        lists = soup.find_all('div',class_=\"text_content\")\n",
    "        \n",
    "        for list in lists:\n",
    "            \n",
    "            review = (list.get_text().split(\"|\")[-1])\n",
    "            \n",
    "            thewriter.writerow([review])\n",
    "\n",
    "         "
   ]
  }
 ],
 "metadata": {
  "colab": {
   "provenance": []
  },
  "kernelspec": {
   "display_name": "Python 3 (ipykernel)",
   "language": "python",
   "name": "python3"
  },
  "language_info": {
   "codemirror_mode": {
    "name": "ipython",
    "version": 3
   },
   "file_extension": ".py",
   "mimetype": "text/x-python",
   "name": "python",
   "nbconvert_exporter": "python",
   "pygments_lexer": "ipython3",
   "version": "3.9.13"
  }
 },
 "nbformat": 4,
 "nbformat_minor": 1
}
